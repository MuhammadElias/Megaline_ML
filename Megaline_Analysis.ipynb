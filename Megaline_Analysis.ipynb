{
 "cells": [
  {
   "cell_type": "markdown",
   "metadata": {},
   "source": [
    "# Project description\n",
    "\n",
    "Mobile carrier Megaline has found out that many of their subscribers use legacy plans. They want to develop a model that would analyze subscribers' behavior and recommend one of Megaline's newer plans: Smart or Ultra. "
   ]
  },
  {
   "cell_type": "markdown",
   "metadata": {},
   "source": [
    "## Data description\n",
    "\n",
    "\n",
    "Every observation in the dataset contains monthly behavior information about one user. The information given is as follows: \n",
    "\n",
    "- сalls — number of calls,\n",
    "- minutes — total call duration in minutes,\n",
    "- messages — number of text messages,\n",
    "- mb_used — Internet traffic used in MB,\n",
    "- is_ultra — plan for the current month (Ultra - 1, Smart - 0)."
   ]
  },
  {
   "cell_type": "code",
   "execution_count": 1,
   "metadata": {},
   "outputs": [],
   "source": [
    "import pandas as pd\n",
    "import numpy as np\n",
    "import math \n",
    "from sklearn.model_selection import train_test_split\n",
    "from sklearn.ensemble import RandomForestClassifier\n",
    "from sklearn.tree import DecisionTreeClassifier\n",
    "from sklearn.metrics import accuracy_score\n",
    "from sklearn.linear_model import LinearRegression\n",
    "from sklearn.metrics import mean_squared_error\n",
    "from sklearn.dummy import DummyClassifier"
   ]
  },
  {
   "cell_type": "code",
   "execution_count": 2,
   "metadata": {},
   "outputs": [],
   "source": [
    "\n",
    "try:\n",
    "    df = pd.read_csv('users_behavior.csv', sep=',')\n",
    "\n",
    "except FileNotFoundError:\n",
    "    df = pd.read_csv('https://practicum-content.s3.us-west-1.amazonaws.com/datasets/users_behavior.csv', sep=',')"
   ]
  },
  {
   "cell_type": "code",
   "execution_count": 3,
   "metadata": {},
   "outputs": [
    {
     "data": {
      "text/plain": [
       "(3214, 5)"
      ]
     },
     "execution_count": 3,
     "metadata": {},
     "output_type": "execute_result"
    }
   ],
   "source": [
    "df.shape"
   ]
  },
  {
   "cell_type": "code",
   "execution_count": 4,
   "metadata": {},
   "outputs": [
    {
     "name": "stdout",
     "output_type": "stream",
     "text": [
      "<class 'pandas.core.frame.DataFrame'>\n",
      "RangeIndex: 3214 entries, 0 to 3213\n",
      "Data columns (total 5 columns):\n",
      " #   Column    Non-Null Count  Dtype  \n",
      "---  ------    --------------  -----  \n",
      " 0   calls     3214 non-null   float64\n",
      " 1   minutes   3214 non-null   float64\n",
      " 2   messages  3214 non-null   float64\n",
      " 3   mb_used   3214 non-null   float64\n",
      " 4   is_ultra  3214 non-null   int64  \n",
      "dtypes: float64(4), int64(1)\n",
      "memory usage: 125.7 KB\n"
     ]
    }
   ],
   "source": [
    "df.info()"
   ]
  },
  {
   "cell_type": "code",
   "execution_count": 5,
   "metadata": {},
   "outputs": [
    {
     "data": {
      "text/plain": [
       "calls       0\n",
       "minutes     0\n",
       "messages    0\n",
       "mb_used     0\n",
       "is_ultra    0\n",
       "dtype: int64"
      ]
     },
     "execution_count": 5,
     "metadata": {},
     "output_type": "execute_result"
    }
   ],
   "source": [
    "#check the data for missing values\n",
    "df.isna().sum()"
   ]
  },
  {
   "cell_type": "code",
   "execution_count": 6,
   "metadata": {
    "scrolled": true
   },
   "outputs": [
    {
     "data": {
      "text/plain": [
       "0.7480559875583204"
      ]
     },
     "execution_count": 6,
     "metadata": {},
     "output_type": "execute_result"
    }
   ],
   "source": [
    "\n",
    "\n",
    "# Split the data into features and target variables\n",
    "X = df.drop('is_ultra', axis=1)\n",
    "y = df['is_ultra']\n",
    "\n",
    "# Split the data into training(60%), validation(20%), and test set(20%)\n",
    "X_1, X_test, y_1, y_test = train_test_split(X, y, test_size=0.2, stratify=y, random_state=12345)\n",
    "X_train, X_val, y_train, y_val = train_test_split(X_1, y_1, test_size=0.25, stratify=y_1, random_state=12345)\n",
    "\n",
    "# Train the Decision Tree model\n",
    "model = DecisionTreeClassifier(random_state=12345)\n",
    "model.fit(X_train, y_train)\n",
    "model.score(X_val, y_val)"
   ]
  },
  {
   "cell_type": "code",
   "execution_count": 7,
   "metadata": {},
   "outputs": [
    {
     "name": "stdout",
     "output_type": "stream",
     "text": [
      "Max depth1:   0.7589424572317263\n",
      "Max depth2:   0.7838258164852255\n",
      "Max depth3:   0.8040435458786936\n",
      "Max depth4:   0.8040435458786936\n",
      "Max depth5:   0.8164852255054432\n",
      "Max depth6:   0.80248833592535\n"
     ]
    }
   ],
   "source": [
    "for i in range(1, 7):\n",
    "  model = DecisionTreeClassifier(max_depth=i, random_state=12345)\n",
    "  model.fit(X_train, y_train)\n",
    "  print(\"Max depth\" + str(i) + \":   \" + str(model.score(X_val, y_val)))"
   ]
  },
  {
   "cell_type": "markdown",
   "metadata": {},
   "source": [
    "the decision tree model shows it highst acuracy with a max depth of 5, the acuracy of the model is %81.65"
   ]
  },
  {
   "cell_type": "markdown",
   "metadata": {},
   "source": [
    "depth 5 shows the best accuracy for the model"
   ]
  },
  {
   "cell_type": "code",
   "execution_count": 8,
   "metadata": {},
   "outputs": [
    {
     "data": {
      "text/plain": [
       "0.8227060653188181"
      ]
     },
     "execution_count": 8,
     "metadata": {},
     "output_type": "execute_result"
    }
   ],
   "source": [
    "# Train the Random Forest model\n",
    "rf_model = RandomForestClassifier()\n",
    "rf_model.fit(X_train, y_train)\n",
    "rf_model.score(X_val, y_val)\n"
   ]
  },
  {
   "cell_type": "code",
   "execution_count": 9,
   "metadata": {},
   "outputs": [
    {
     "name": "stdout",
     "output_type": "stream",
     "text": [
      "F1 Score: 0.6303030303030304\n",
      "Roc Auc Score: 0.7314481801006123\n",
      "Precision: 0.7819548872180451\n",
      "Recall: 0.5279187817258884\n"
     ]
    }
   ],
   "source": [
    "# Evaluate other metrics such as F1 Score, Precision, Recall\n",
    "from sklearn.metrics import f1_score, roc_auc_score, precision_score, recall_score\n",
    "\n",
    "print(\"F1 Score: \"+str(f1_score(y_test, rf_model.predict(X_test))))\n",
    "print(\"Roc Auc Score: \"+str(roc_auc_score(y_test, rf_model.predict(X_test))))\n",
    "print(\"Precision: \"+str(precision_score(y_test, rf_model.predict(X_test))))\n",
    "print(\"Recall: \"+str(recall_score(y_test, rf_model.predict(X_test))))"
   ]
  },
  {
   "cell_type": "code",
   "execution_count": 10,
   "metadata": {},
   "outputs": [],
   "source": [
    "from sklearn.model_selection import GridSearchCV\n",
    "\n",
    "parameters = {\n",
    "    \"max_depth\": [5, 7, 10],\n",
    "    \"n_estimators\": [5, 10],\n",
    "    'min_samples_split': [2, 5, 7]\n",
    "}"
   ]
  },
  {
   "cell_type": "code",
   "execution_count": 11,
   "metadata": {},
   "outputs": [
    {
     "name": "stdout",
     "output_type": "stream",
     "text": [
      "Fitting 5 folds for each of 18 candidates, totalling 90 fits\n",
      "[CV] END ...max_depth=5, min_samples_split=2, n_estimators=5; total time=   0.0s\n",
      "[CV] END ...max_depth=5, min_samples_split=2, n_estimators=5; total time=   0.0s\n",
      "[CV] END ...max_depth=5, min_samples_split=2, n_estimators=5; total time=   0.0s\n",
      "[CV] END ...max_depth=5, min_samples_split=2, n_estimators=5; total time=   0.0s\n",
      "[CV] END ...max_depth=5, min_samples_split=2, n_estimators=5; total time=   0.0s\n",
      "[CV] END ..max_depth=5, min_samples_split=2, n_estimators=10; total time=   0.0s\n",
      "[CV] END ..max_depth=5, min_samples_split=2, n_estimators=10; total time=   0.0s\n",
      "[CV] END ..max_depth=5, min_samples_split=2, n_estimators=10; total time=   0.0s\n",
      "[CV] END ..max_depth=5, min_samples_split=2, n_estimators=10; total time=   0.0s\n",
      "[CV] END ..max_depth=5, min_samples_split=2, n_estimators=10; total time=   0.0s\n",
      "[CV] END ...max_depth=5, min_samples_split=5, n_estimators=5; total time=   0.0s\n",
      "[CV] END ...max_depth=5, min_samples_split=5, n_estimators=5; total time=   0.0s\n",
      "[CV] END ...max_depth=5, min_samples_split=5, n_estimators=5; total time=   0.0s\n",
      "[CV] END ...max_depth=5, min_samples_split=5, n_estimators=5; total time=   0.0s\n",
      "[CV] END ...max_depth=5, min_samples_split=5, n_estimators=5; total time=   0.0s\n",
      "[CV] END ..max_depth=5, min_samples_split=5, n_estimators=10; total time=   0.0s\n",
      "[CV] END ..max_depth=5, min_samples_split=5, n_estimators=10; total time=   0.0s\n",
      "[CV] END ..max_depth=5, min_samples_split=5, n_estimators=10; total time=   0.0s\n",
      "[CV] END ..max_depth=5, min_samples_split=5, n_estimators=10; total time=   0.0s\n",
      "[CV] END ..max_depth=5, min_samples_split=5, n_estimators=10; total time=   0.0s\n",
      "[CV] END ...max_depth=5, min_samples_split=7, n_estimators=5; total time=   0.0s\n",
      "[CV] END ...max_depth=5, min_samples_split=7, n_estimators=5; total time=   0.0s\n",
      "[CV] END ...max_depth=5, min_samples_split=7, n_estimators=5; total time=   0.0s\n",
      "[CV] END ...max_depth=5, min_samples_split=7, n_estimators=5; total time=   0.0s\n",
      "[CV] END ...max_depth=5, min_samples_split=7, n_estimators=5; total time=   0.0s\n",
      "[CV] END ..max_depth=5, min_samples_split=7, n_estimators=10; total time=   0.0s\n",
      "[CV] END ..max_depth=5, min_samples_split=7, n_estimators=10; total time=   0.0s\n",
      "[CV] END ..max_depth=5, min_samples_split=7, n_estimators=10; total time=   0.0s\n",
      "[CV] END ..max_depth=5, min_samples_split=7, n_estimators=10; total time=   0.0s\n",
      "[CV] END ..max_depth=5, min_samples_split=7, n_estimators=10; total time=   0.0s\n",
      "[CV] END ...max_depth=7, min_samples_split=2, n_estimators=5; total time=   0.0s\n",
      "[CV] END ...max_depth=7, min_samples_split=2, n_estimators=5; total time=   0.0s\n",
      "[CV] END ...max_depth=7, min_samples_split=2, n_estimators=5; total time=   0.0s\n",
      "[CV] END ...max_depth=7, min_samples_split=2, n_estimators=5; total time=   0.0s\n",
      "[CV] END ...max_depth=7, min_samples_split=2, n_estimators=5; total time=   0.0s\n",
      "[CV] END ..max_depth=7, min_samples_split=2, n_estimators=10; total time=   0.0s\n",
      "[CV] END ..max_depth=7, min_samples_split=2, n_estimators=10; total time=   0.0s\n",
      "[CV] END ..max_depth=7, min_samples_split=2, n_estimators=10; total time=   0.0s\n",
      "[CV] END ..max_depth=7, min_samples_split=2, n_estimators=10; total time=   0.0s\n",
      "[CV] END ..max_depth=7, min_samples_split=2, n_estimators=10; total time=   0.0s\n",
      "[CV] END ...max_depth=7, min_samples_split=5, n_estimators=5; total time=   0.0s\n",
      "[CV] END ...max_depth=7, min_samples_split=5, n_estimators=5; total time=   0.0s\n",
      "[CV] END ...max_depth=7, min_samples_split=5, n_estimators=5; total time=   0.0s\n",
      "[CV] END ...max_depth=7, min_samples_split=5, n_estimators=5; total time=   0.0s\n",
      "[CV] END ...max_depth=7, min_samples_split=5, n_estimators=5; total time=   0.0s\n",
      "[CV] END ..max_depth=7, min_samples_split=5, n_estimators=10; total time=   0.0s\n",
      "[CV] END ..max_depth=7, min_samples_split=5, n_estimators=10; total time=   0.0s\n",
      "[CV] END ..max_depth=7, min_samples_split=5, n_estimators=10; total time=   0.0s\n",
      "[CV] END ..max_depth=7, min_samples_split=5, n_estimators=10; total time=   0.0s\n",
      "[CV] END ..max_depth=7, min_samples_split=5, n_estimators=10; total time=   0.0s\n",
      "[CV] END ...max_depth=7, min_samples_split=7, n_estimators=5; total time=   0.0s\n",
      "[CV] END ...max_depth=7, min_samples_split=7, n_estimators=5; total time=   0.0s\n",
      "[CV] END ...max_depth=7, min_samples_split=7, n_estimators=5; total time=   0.0s\n",
      "[CV] END ...max_depth=7, min_samples_split=7, n_estimators=5; total time=   0.0s\n",
      "[CV] END ...max_depth=7, min_samples_split=7, n_estimators=5; total time=   0.0s\n",
      "[CV] END ..max_depth=7, min_samples_split=7, n_estimators=10; total time=   0.0s\n",
      "[CV] END ..max_depth=7, min_samples_split=7, n_estimators=10; total time=   0.0s\n",
      "[CV] END ..max_depth=7, min_samples_split=7, n_estimators=10; total time=   0.0s\n",
      "[CV] END ..max_depth=7, min_samples_split=7, n_estimators=10; total time=   0.0s\n",
      "[CV] END ..max_depth=7, min_samples_split=7, n_estimators=10; total time=   0.0s\n",
      "[CV] END ..max_depth=10, min_samples_split=2, n_estimators=5; total time=   0.0s\n",
      "[CV] END ..max_depth=10, min_samples_split=2, n_estimators=5; total time=   0.0s\n",
      "[CV] END ..max_depth=10, min_samples_split=2, n_estimators=5; total time=   0.0s\n",
      "[CV] END ..max_depth=10, min_samples_split=2, n_estimators=5; total time=   0.0s\n",
      "[CV] END ..max_depth=10, min_samples_split=2, n_estimators=5; total time=   0.0s\n",
      "[CV] END .max_depth=10, min_samples_split=2, n_estimators=10; total time=   0.0s\n",
      "[CV] END .max_depth=10, min_samples_split=2, n_estimators=10; total time=   0.1s\n",
      "[CV] END .max_depth=10, min_samples_split=2, n_estimators=10; total time=   0.0s\n",
      "[CV] END .max_depth=10, min_samples_split=2, n_estimators=10; total time=   0.0s\n",
      "[CV] END .max_depth=10, min_samples_split=2, n_estimators=10; total time=   0.0s\n",
      "[CV] END ..max_depth=10, min_samples_split=5, n_estimators=5; total time=   0.0s\n",
      "[CV] END ..max_depth=10, min_samples_split=5, n_estimators=5; total time=   0.0s\n",
      "[CV] END ..max_depth=10, min_samples_split=5, n_estimators=5; total time=   0.0s\n",
      "[CV] END ..max_depth=10, min_samples_split=5, n_estimators=5; total time=   0.0s\n",
      "[CV] END ..max_depth=10, min_samples_split=5, n_estimators=5; total time=   0.0s\n",
      "[CV] END .max_depth=10, min_samples_split=5, n_estimators=10; total time=   0.0s\n",
      "[CV] END .max_depth=10, min_samples_split=5, n_estimators=10; total time=   0.0s\n",
      "[CV] END .max_depth=10, min_samples_split=5, n_estimators=10; total time=   0.0s\n",
      "[CV] END .max_depth=10, min_samples_split=5, n_estimators=10; total time=   0.0s\n",
      "[CV] END .max_depth=10, min_samples_split=5, n_estimators=10; total time=   0.0s\n",
      "[CV] END ..max_depth=10, min_samples_split=7, n_estimators=5; total time=   0.0s\n",
      "[CV] END ..max_depth=10, min_samples_split=7, n_estimators=5; total time=   0.0s\n",
      "[CV] END ..max_depth=10, min_samples_split=7, n_estimators=5; total time=   0.0s\n",
      "[CV] END ..max_depth=10, min_samples_split=7, n_estimators=5; total time=   0.0s\n",
      "[CV] END ..max_depth=10, min_samples_split=7, n_estimators=5; total time=   0.0s\n",
      "[CV] END .max_depth=10, min_samples_split=7, n_estimators=10; total time=   0.0s\n",
      "[CV] END .max_depth=10, min_samples_split=7, n_estimators=10; total time=   0.0s\n",
      "[CV] END .max_depth=10, min_samples_split=7, n_estimators=10; total time=   0.0s\n",
      "[CV] END .max_depth=10, min_samples_split=7, n_estimators=10; total time=   0.0s\n",
      "[CV] END .max_depth=10, min_samples_split=7, n_estimators=10; total time=   0.0s\n"
     ]
    },
    {
     "data": {
      "text/plain": [
       "GridSearchCV(estimator=RandomForestClassifier(),\n",
       "             param_grid={'max_depth': [5, 7, 10],\n",
       "                         'min_samples_split': [2, 5, 7],\n",
       "                         'n_estimators': [5, 10]},\n",
       "             verbose=2)"
      ]
     },
     "execution_count": 11,
     "metadata": {},
     "output_type": "execute_result"
    }
   ],
   "source": [
    "clf = GridSearchCV(rf_model, parameters, verbose=2)\n",
    "clf.fit(X_train, y_train)"
   ]
  },
  {
   "cell_type": "markdown",
   "metadata": {},
   "source": [
    "the random forest classifier model shows without any other metrics the best accuracy of %82.58 "
   ]
  },
  {
   "cell_type": "code",
   "execution_count": 12,
   "metadata": {},
   "outputs": [
    {
     "data": {
      "text/plain": [
       "{'max_depth': 10, 'min_samples_split': 2, 'n_estimators': 10}"
      ]
     },
     "execution_count": 12,
     "metadata": {},
     "output_type": "execute_result"
    }
   ],
   "source": [
    "clf.best_params_"
   ]
  },
  {
   "cell_type": "code",
   "execution_count": 13,
   "metadata": {},
   "outputs": [],
   "source": [
    "model_1 = clf.best_estimator_"
   ]
  },
  {
   "cell_type": "code",
   "execution_count": 14,
   "metadata": {},
   "outputs": [
    {
     "data": {
      "text/plain": [
       "0.8009331259720062"
      ]
     },
     "execution_count": 14,
     "metadata": {},
     "output_type": "execute_result"
    }
   ],
   "source": [
    "model_1.score(X_test, y_test)"
   ]
  },
  {
   "cell_type": "code",
   "execution_count": 15,
   "metadata": {},
   "outputs": [
    {
     "data": {
      "text/plain": [
       "0.20217729393468117"
      ]
     },
     "execution_count": 15,
     "metadata": {},
     "output_type": "execute_result"
    }
   ],
   "source": [
    "# Create predictions for the decision tree model\n",
    "y_pred = model.predict(X_test)\n",
    "\n",
    "mean_squared_error(y_pred, y_test)"
   ]
  },
  {
   "cell_type": "code",
   "execution_count": 16,
   "metadata": {},
   "outputs": [
    {
     "data": {
      "text/plain": [
       "0.5305591404878536"
      ]
     },
     "execution_count": 16,
     "metadata": {},
     "output_type": "execute_result"
    }
   ],
   "source": [
    "# checking for model error\n",
    "mean_squared_error(y_pred, y_test)\n",
    "math.sqrt(0.28149300155520995)"
   ]
  },
  {
   "cell_type": "code",
   "execution_count": 17,
   "metadata": {},
   "outputs": [
    {
     "data": {
      "text/plain": [
       "0.18973561430793157"
      ]
     },
     "execution_count": 17,
     "metadata": {},
     "output_type": "execute_result"
    }
   ],
   "source": [
    "# Create predictions for the random forest model\n",
    "rf_y_pred = rf_model.predict(X_test)\n",
    "\n",
    "mean_squared_error(rf_y_pred, y_test)"
   ]
  },
  {
   "cell_type": "code",
   "execution_count": 18,
   "metadata": {},
   "outputs": [
    {
     "data": {
      "text/plain": [
       "0.43200138240663555"
      ]
     },
     "execution_count": 18,
     "metadata": {},
     "output_type": "execute_result"
    }
   ],
   "source": [
    "math.sqrt(0.18662519440124417)"
   ]
  },
  {
   "cell_type": "code",
   "execution_count": 19,
   "metadata": {},
   "outputs": [
    {
     "data": {
      "text/plain": [
       "0.6936236391912908"
      ]
     },
     "execution_count": 19,
     "metadata": {},
     "output_type": "execute_result"
    }
   ],
   "source": [
    "from sklearn.dummy import DummyClassifier\n",
    "dummy_clf = DummyClassifier(strategy=\"most_frequent\")\n",
    "dummy_clf.fit(X_train, y_train)\n",
    "dummy_clf.score(X_val, y_val)\n"
   ]
  },
  {
   "cell_type": "markdown",
   "metadata": {},
   "source": [
    "the dummy Classifier has the lowest accuracy of all the models with %69.36"
   ]
  },
  {
   "cell_type": "markdown",
   "metadata": {},
   "source": [
    "# conclusion\n",
    "after testing several models for predicting clients behavior and recommending a plan the best model with the highest acuracy and lowest error is the Random Forest Clssifier model "
   ]
  }
 ],
 "metadata": {
  "ExecuteTimeLog": [
   {
    "duration": 1235,
    "start_time": "2024-07-08T04:10:20.018Z"
   },
   {
    "duration": 478,
    "start_time": "2024-07-08T04:10:52.533Z"
   },
   {
    "duration": 16,
    "start_time": "2024-07-08T04:11:22.867Z"
   },
   {
    "duration": 1277,
    "start_time": "2024-07-08T05:57:45.350Z"
   },
   {
    "duration": 1250,
    "start_time": "2024-07-10T21:06:48.932Z"
   },
   {
    "duration": 486,
    "start_time": "2024-07-10T21:06:50.186Z"
   },
   {
    "duration": 21,
    "start_time": "2024-07-10T21:06:50.676Z"
   },
   {
    "duration": 530,
    "start_time": "2024-07-10T21:06:50.702Z"
   },
   {
    "duration": 0,
    "start_time": "2024-07-10T21:06:51.236Z"
   },
   {
    "duration": 1900,
    "start_time": "2024-07-11T18:03:45.778Z"
   },
   {
    "duration": 603,
    "start_time": "2024-07-11T18:03:47.686Z"
   },
   {
    "duration": 21,
    "start_time": "2024-07-11T18:03:48.294Z"
   },
   {
    "duration": 496,
    "start_time": "2024-07-11T18:03:48.321Z"
   },
   {
    "duration": 798,
    "start_time": "2024-07-11T18:04:01.896Z"
   },
   {
    "duration": 2010,
    "start_time": "2024-07-11T18:04:05.290Z"
   },
   {
    "duration": 16,
    "start_time": "2024-07-11T18:06:41.021Z"
   },
   {
    "duration": 5,
    "start_time": "2024-07-11T18:37:16.026Z"
   },
   {
    "duration": 485,
    "start_time": "2024-07-11T18:37:17.774Z"
   },
   {
    "duration": 17,
    "start_time": "2024-07-11T18:37:19.133Z"
   },
   {
    "duration": 677,
    "start_time": "2024-07-11T18:37:20.092Z"
   },
   {
    "duration": 22,
    "start_time": "2024-07-11T18:37:20.879Z"
   },
   {
    "duration": 304,
    "start_time": "2024-07-11T22:22:23.662Z"
   },
   {
    "duration": 1183,
    "start_time": "2024-07-11T22:22:30.414Z"
   },
   {
    "duration": 479,
    "start_time": "2024-07-11T22:22:31.600Z"
   },
   {
    "duration": 15,
    "start_time": "2024-07-11T22:22:32.082Z"
   },
   {
    "duration": 13,
    "start_time": "2024-07-11T22:22:32.225Z"
   },
   {
    "duration": 11,
    "start_time": "2024-07-11T22:25:36.308Z"
   },
   {
    "duration": 118,
    "start_time": "2024-07-11T22:25:56.448Z"
   },
   {
    "duration": 10,
    "start_time": "2024-07-11T22:26:03.707Z"
   },
   {
    "duration": 1197,
    "start_time": "2024-07-15T18:45:21.465Z"
   },
   {
    "duration": 464,
    "start_time": "2024-07-15T18:45:22.665Z"
   },
   {
    "duration": 9,
    "start_time": "2024-07-15T18:45:23.132Z"
   },
   {
    "duration": 9,
    "start_time": "2024-07-15T18:45:23.146Z"
   },
   {
    "duration": 634,
    "start_time": "2024-07-15T18:45:23.158Z"
   },
   {
    "duration": 24,
    "start_time": "2024-07-15T18:45:23.795Z"
   },
   {
    "duration": 348,
    "start_time": "2024-07-16T02:57:30.113Z"
   },
   {
    "duration": 1224,
    "start_time": "2024-07-16T02:57:36.263Z"
   },
   {
    "duration": 409,
    "start_time": "2024-07-16T02:57:37.491Z"
   },
   {
    "duration": 9,
    "start_time": "2024-07-16T02:57:39.427Z"
   },
   {
    "duration": 15,
    "start_time": "2024-07-16T02:57:40.587Z"
   },
   {
    "duration": 15,
    "start_time": "2024-07-16T02:57:51.288Z"
   },
   {
    "duration": 429,
    "start_time": "2024-07-25T02:00:40.119Z"
   },
   {
    "duration": 1517,
    "start_time": "2024-07-25T02:00:47.999Z"
   },
   {
    "duration": 495,
    "start_time": "2024-07-25T02:00:49.520Z"
   },
   {
    "duration": 12,
    "start_time": "2024-07-25T02:00:52.235Z"
   },
   {
    "duration": 23,
    "start_time": "2024-07-25T02:00:53.235Z"
   },
   {
    "duration": 10,
    "start_time": "2024-07-25T02:00:54.263Z"
   },
   {
    "duration": 167,
    "start_time": "2024-07-25T02:00:56.440Z"
   },
   {
    "duration": 739,
    "start_time": "2024-07-25T02:01:22.914Z"
   },
   {
    "duration": 26,
    "start_time": "2024-07-25T02:40:19.998Z"
   },
   {
    "duration": 31,
    "start_time": "2024-07-25T02:40:39.327Z"
   },
   {
    "duration": 5,
    "start_time": "2024-07-25T02:41:07.465Z"
   },
   {
    "duration": 5,
    "start_time": "2024-07-25T02:41:46.411Z"
   },
   {
    "duration": 36,
    "start_time": "2024-07-25T02:43:49.636Z"
   },
   {
    "duration": 36,
    "start_time": "2024-07-25T02:44:10.997Z"
   },
   {
    "duration": 598,
    "start_time": "2024-07-25T02:44:16.288Z"
   },
   {
    "duration": 36,
    "start_time": "2024-07-25T02:45:37.413Z"
   },
   {
    "duration": 611,
    "start_time": "2024-07-25T02:47:35.851Z"
   },
   {
    "duration": 33,
    "start_time": "2024-07-25T02:47:53.707Z"
   },
   {
    "duration": 329,
    "start_time": "2024-07-25T03:49:34.844Z"
   },
   {
    "duration": 1223,
    "start_time": "2024-07-25T03:49:43.597Z"
   },
   {
    "duration": 424,
    "start_time": "2024-07-25T03:49:45.754Z"
   },
   {
    "duration": 10,
    "start_time": "2024-07-25T03:49:46.589Z"
   },
   {
    "duration": 17,
    "start_time": "2024-07-25T03:49:47.241Z"
   },
   {
    "duration": 10,
    "start_time": "2024-07-25T03:49:47.902Z"
   },
   {
    "duration": 32,
    "start_time": "2024-07-25T03:49:52.190Z"
   },
   {
    "duration": 248,
    "start_time": "2024-07-25T03:50:14.900Z"
   },
   {
    "duration": 231,
    "start_time": "2024-07-25T03:50:40.922Z"
   },
   {
    "duration": 546,
    "start_time": "2024-07-25T03:53:09.616Z"
   },
   {
    "duration": 548,
    "start_time": "2024-07-25T03:53:16.531Z"
   },
   {
    "duration": 534,
    "start_time": "2024-07-25T03:53:52.511Z"
   },
   {
    "duration": 29,
    "start_time": "2024-07-25T03:54:16.709Z"
   },
   {
    "duration": 231,
    "start_time": "2024-07-25T03:54:19.514Z"
   },
   {
    "duration": 552,
    "start_time": "2024-07-25T03:54:25.686Z"
   },
   {
    "duration": 352,
    "start_time": "2024-07-25T03:59:09.891Z"
   },
   {
    "duration": 5,
    "start_time": "2024-07-25T03:59:27.620Z"
   },
   {
    "duration": 472,
    "start_time": "2024-07-25T03:59:29.207Z"
   },
   {
    "duration": 5,
    "start_time": "2024-07-25T03:59:30.607Z"
   },
   {
    "duration": 13,
    "start_time": "2024-07-25T03:59:31.193Z"
   },
   {
    "duration": 8,
    "start_time": "2024-07-25T03:59:31.833Z"
   },
   {
    "duration": 65,
    "start_time": "2024-07-25T03:59:33.562Z"
   },
   {
    "duration": 68,
    "start_time": "2024-07-25T04:01:03.237Z"
   },
   {
    "duration": 33,
    "start_time": "2024-07-25T04:01:34.613Z"
   },
   {
    "duration": 236,
    "start_time": "2024-07-25T04:01:42.493Z"
   },
   {
    "duration": 525,
    "start_time": "2024-07-25T04:02:13.173Z"
   },
   {
    "duration": 1236,
    "start_time": "2024-07-25T15:03:50.535Z"
   },
   {
    "duration": 321,
    "start_time": "2024-07-25T15:04:35.558Z"
   },
   {
    "duration": 488,
    "start_time": "2024-07-25T15:04:36.061Z"
   },
   {
    "duration": 9,
    "start_time": "2024-07-25T15:04:36.714Z"
   },
   {
    "duration": 14,
    "start_time": "2024-07-25T15:04:37.245Z"
   },
   {
    "duration": 10,
    "start_time": "2024-07-25T15:04:37.744Z"
   },
   {
    "duration": 32,
    "start_time": "2024-07-25T15:04:38.835Z"
   },
   {
    "duration": 235,
    "start_time": "2024-07-25T15:04:40.024Z"
   },
   {
    "duration": 542,
    "start_time": "2024-07-25T15:04:41.762Z"
   },
   {
    "duration": 16,
    "start_time": "2024-07-25T15:04:45.509Z"
   },
   {
    "duration": 9,
    "start_time": "2024-07-25T15:04:47.414Z"
   },
   {
    "duration": 5,
    "start_time": "2024-07-25T15:37:45.778Z"
   },
   {
    "duration": 420,
    "start_time": "2024-07-25T15:37:46.453Z"
   },
   {
    "duration": 5,
    "start_time": "2024-07-25T15:37:48.453Z"
   },
   {
    "duration": 14,
    "start_time": "2024-07-25T15:37:49.458Z"
   },
   {
    "duration": 8,
    "start_time": "2024-07-25T15:37:50.235Z"
   },
   {
    "duration": 32,
    "start_time": "2024-07-25T15:37:51.429Z"
   },
   {
    "duration": 234,
    "start_time": "2024-07-25T15:37:52.348Z"
   },
   {
    "duration": 539,
    "start_time": "2024-07-25T15:37:54.922Z"
   },
   {
    "duration": 92,
    "start_time": "2024-07-25T15:37:55.590Z"
   },
   {
    "duration": 332,
    "start_time": "2024-07-25T19:29:51.927Z"
   },
   {
    "duration": 1186,
    "start_time": "2024-07-25T19:30:00.012Z"
   },
   {
    "duration": 518,
    "start_time": "2024-07-25T19:30:02.456Z"
   },
   {
    "duration": 8,
    "start_time": "2024-07-25T19:30:03.117Z"
   },
   {
    "duration": 14,
    "start_time": "2024-07-25T19:30:03.490Z"
   },
   {
    "duration": 9,
    "start_time": "2024-07-25T19:30:03.807Z"
   },
   {
    "duration": 31,
    "start_time": "2024-07-25T19:30:04.328Z"
   },
   {
    "duration": 231,
    "start_time": "2024-07-25T19:30:04.596Z"
   },
   {
    "duration": 534,
    "start_time": "2024-07-25T19:30:08.309Z"
   },
   {
    "duration": 98,
    "start_time": "2024-07-25T19:30:10.557Z"
   },
   {
    "duration": 6,
    "start_time": "2024-07-25T19:30:22.764Z"
   },
   {
    "duration": 9,
    "start_time": "2024-07-25T19:35:42.268Z"
   },
   {
    "duration": 5,
    "start_time": "2024-07-25T19:43:09.873Z"
   },
   {
    "duration": 5,
    "start_time": "2024-07-25T19:44:19.032Z"
   },
   {
    "duration": 9,
    "start_time": "2024-07-25T19:44:59.087Z"
   },
   {
    "duration": 5,
    "start_time": "2024-07-25T19:44:59.884Z"
   },
   {
    "duration": 12,
    "start_time": "2024-07-25T19:45:03.460Z"
   },
   {
    "duration": 27,
    "start_time": "2024-07-25T20:00:15.360Z"
   },
   {
    "duration": 8,
    "start_time": "2024-07-25T20:02:32.637Z"
   },
   {
    "duration": 6,
    "start_time": "2024-07-25T20:03:33.017Z"
   },
   {
    "duration": 6,
    "start_time": "2024-07-25T20:10:26.633Z"
   },
   {
    "duration": 6,
    "start_time": "2024-07-25T20:10:36.479Z"
   },
   {
    "duration": 6,
    "start_time": "2024-07-25T20:11:25.882Z"
   },
   {
    "duration": 1234,
    "start_time": "2024-07-26T08:58:12.925Z"
   },
   {
    "duration": 482,
    "start_time": "2024-07-26T08:58:14.163Z"
   },
   {
    "duration": 9,
    "start_time": "2024-07-26T08:58:14.649Z"
   },
   {
    "duration": 15,
    "start_time": "2024-07-26T08:58:14.662Z"
   },
   {
    "duration": 9,
    "start_time": "2024-07-26T08:58:14.680Z"
   },
   {
    "duration": 65,
    "start_time": "2024-07-26T08:58:14.692Z"
   },
   {
    "duration": 248,
    "start_time": "2024-07-26T08:58:14.760Z"
   },
   {
    "duration": 550,
    "start_time": "2024-07-26T08:58:15.011Z"
   },
   {
    "duration": 103,
    "start_time": "2024-07-26T08:58:15.564Z"
   },
   {
    "duration": 9,
    "start_time": "2024-07-26T08:58:15.672Z"
   },
   {
    "duration": 7,
    "start_time": "2024-07-26T08:58:15.683Z"
   },
   {
    "duration": 58,
    "start_time": "2024-07-26T08:58:15.693Z"
   },
   {
    "duration": 5,
    "start_time": "2024-07-26T08:58:15.754Z"
   },
   {
    "duration": 9,
    "start_time": "2024-07-26T08:58:15.762Z"
   },
   {
    "duration": 7,
    "start_time": "2024-07-26T09:01:00.574Z"
   },
   {
    "duration": 1182,
    "start_time": "2024-07-27T19:16:02.287Z"
   },
   {
    "duration": 492,
    "start_time": "2024-07-27T19:16:03.472Z"
   },
   {
    "duration": 10,
    "start_time": "2024-07-27T19:16:04.952Z"
   },
   {
    "duration": 17,
    "start_time": "2024-07-27T19:16:05.546Z"
   },
   {
    "duration": 9,
    "start_time": "2024-07-27T19:16:05.947Z"
   },
   {
    "duration": 38,
    "start_time": "2024-07-27T19:16:07.832Z"
   },
   {
    "duration": 1432,
    "start_time": "2024-07-27T19:16:08.973Z"
   },
   {
    "duration": 83,
    "start_time": "2024-07-27T19:16:49.135Z"
   },
   {
    "duration": 31,
    "start_time": "2024-07-27T19:17:00.330Z"
   },
   {
    "duration": 52,
    "start_time": "2024-07-27T19:17:05.739Z"
   },
   {
    "duration": 535,
    "start_time": "2024-07-27T19:24:49.168Z"
   },
   {
    "duration": 92,
    "start_time": "2024-07-27T19:24:51.323Z"
   },
   {
    "duration": 4,
    "start_time": "2024-07-27T19:24:52.428Z"
   },
   {
    "duration": 2834,
    "start_time": "2024-07-27T19:24:54.072Z"
   },
   {
    "duration": 7,
    "start_time": "2024-07-27T19:25:48.371Z"
   },
   {
    "duration": 4,
    "start_time": "2024-07-27T19:26:16.467Z"
   },
   {
    "duration": 11,
    "start_time": "2024-07-27T19:26:34.274Z"
   },
   {
    "duration": 6,
    "start_time": "2024-07-27T19:28:54.243Z"
   },
   {
    "duration": 4,
    "start_time": "2024-07-27T19:28:54.919Z"
   },
   {
    "duration": 11,
    "start_time": "2024-07-27T19:28:55.570Z"
   },
   {
    "duration": 1162,
    "start_time": "2024-07-28T11:43:45.255Z"
   },
   {
    "duration": 520,
    "start_time": "2024-07-28T11:43:46.422Z"
   },
   {
    "duration": 9,
    "start_time": "2024-07-28T11:43:46.945Z"
   },
   {
    "duration": 15,
    "start_time": "2024-07-28T11:43:46.958Z"
   },
   {
    "duration": 8,
    "start_time": "2024-07-28T11:43:46.979Z"
   },
   {
    "duration": 61,
    "start_time": "2024-07-28T11:43:46.990Z"
   },
   {
    "duration": 68,
    "start_time": "2024-07-28T11:43:47.054Z"
   },
   {
    "duration": 557,
    "start_time": "2024-07-28T11:43:47.125Z"
   },
   {
    "duration": 108,
    "start_time": "2024-07-28T11:43:47.685Z"
   },
   {
    "duration": 5,
    "start_time": "2024-07-28T11:43:47.796Z"
   },
   {
    "duration": 2844,
    "start_time": "2024-07-28T11:43:47.805Z"
   },
   {
    "duration": 6,
    "start_time": "2024-07-28T11:43:50.652Z"
   },
   {
    "duration": 4,
    "start_time": "2024-07-28T11:43:50.661Z"
   },
   {
    "duration": 10,
    "start_time": "2024-07-28T11:43:50.671Z"
   },
   {
    "duration": 46,
    "start_time": "2024-07-28T11:43:50.684Z"
   },
   {
    "duration": 7,
    "start_time": "2024-07-28T11:43:50.733Z"
   },
   {
    "duration": 29,
    "start_time": "2024-07-28T11:43:50.742Z"
   },
   {
    "duration": 5,
    "start_time": "2024-07-28T11:43:50.774Z"
   },
   {
    "duration": 10,
    "start_time": "2024-07-28T11:43:50.822Z"
   }
  ],
  "kernelspec": {
   "display_name": "Python 3 (ipykernel)",
   "language": "python",
   "name": "python3"
  },
  "language_info": {
   "codemirror_mode": {
    "name": "ipython",
    "version": 3
   },
   "file_extension": ".py",
   "mimetype": "text/x-python",
   "name": "python",
   "nbconvert_exporter": "python",
   "pygments_lexer": "ipython3",
   "version": "3.9.19"
  },
  "toc": {
   "base_numbering": 1,
   "nav_menu": {},
   "number_sections": true,
   "sideBar": true,
   "skip_h1_title": true,
   "title_cell": "Table of Contents",
   "title_sidebar": "Contents",
   "toc_cell": false,
   "toc_position": {},
   "toc_section_display": true,
   "toc_window_display": false
  }
 },
 "nbformat": 4,
 "nbformat_minor": 2
}
